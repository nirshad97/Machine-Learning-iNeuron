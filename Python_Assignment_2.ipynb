{
  "nbformat": 4,
  "nbformat_minor": 0,
  "metadata": {
    "colab": {
      "name": "Python Assignment 2.ipynb",
      "provenance": []
    },
    "kernelspec": {
      "name": "python3",
      "display_name": "Python 3"
    }
  },
  "cells": [
    {
      "cell_type": "markdown",
      "metadata": {
        "id": "lL8L3c-CMESh"
      },
      "source": [
        "1. Write a program which accepts a sequence of comma-separated numbers from console  and generate a list. "
      ]
    },
    {
      "cell_type": "code",
      "metadata": {
        "colab": {
          "base_uri": "https://localhost:8080/"
        },
        "id": "4L-V9kYwMG4w",
        "outputId": "dea50be3-6f27-4f42-a76c-2b88c3be1667"
      },
      "source": [
        "numbers = input(\"Enter your numbers: \")\r\n",
        "my_list = numbers.split(\", \")\r\n",
        "print(my_list)"
      ],
      "execution_count": 5,
      "outputs": [
        {
          "output_type": "stream",
          "text": [
            "Enter your numbers: 1, 2, 5, 3, 6, 3, 5\n",
            "['1', '2', '5', '3', '6', '3', '5']\n"
          ],
          "name": "stdout"
        }
      ]
    },
    {
      "cell_type": "markdown",
      "metadata": {
        "id": "06cAlHJaMylI"
      },
      "source": [
        " 2. Create the below pattern using nested for loop in Python. "
      ]
    },
    {
      "cell_type": "code",
      "metadata": {
        "colab": {
          "base_uri": "https://localhost:8080/"
        },
        "id": "DuasduMhMcAY",
        "outputId": "4ddf9aca-6a1f-4060-e592-5f54704005f4"
      },
      "source": [
        "for i in range(1,5):\r\n",
        "  print(\"*\"*i)\r\n",
        "  if i == 4:\r\n",
        "    for i in range(5,0, -1):\r\n",
        "      print(\"*\"*i)"
      ],
      "execution_count": 8,
      "outputs": [
        {
          "output_type": "stream",
          "text": [
            "*\n",
            "**\n",
            "***\n",
            "****\n",
            "*****\n",
            "****\n",
            "***\n",
            "**\n",
            "*\n"
          ],
          "name": "stdout"
        }
      ]
    },
    {
      "cell_type": "markdown",
      "metadata": {
        "id": "qnR6eKHBNwb4"
      },
      "source": [
        "3. Write a Python program to reverse a word after accepting the input from the user. "
      ]
    },
    {
      "cell_type": "code",
      "metadata": {
        "colab": {
          "base_uri": "https://localhost:8080/",
          "height": 52
        },
        "id": "add1xGMbNFfA",
        "outputId": "70f5b0bd-3cab-4e19-bfcb-0a592c98f2db"
      },
      "source": [
        "user_input = input(\"Your input: \")\r\n",
        "user_input[::-1]"
      ],
      "execution_count": 9,
      "outputs": [
        {
          "output_type": "stream",
          "text": [
            "Your input: ineuron\n"
          ],
          "name": "stdout"
        },
        {
          "output_type": "execute_result",
          "data": {
            "application/vnd.google.colaboratory.intrinsic+json": {
              "type": "string"
            },
            "text/plain": [
              "'norueni'"
            ]
          },
          "metadata": {
            "tags": []
          },
          "execution_count": 9
        }
      ]
    },
    {
      "cell_type": "code",
      "metadata": {
        "id": "6BUDZgSiN4SY"
      },
      "source": [
        ""
      ],
      "execution_count": null,
      "outputs": []
    }
  ]
}