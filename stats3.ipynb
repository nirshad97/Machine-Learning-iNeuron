{
  "nbformat": 4,
  "nbformat_minor": 0,
  "metadata": {
    "colab": {
      "name": "stats3.ipynb",
      "provenance": [],
      "collapsed_sections": []
    },
    "kernelspec": {
      "name": "python3",
      "display_name": "Python 3"
    },
    "language_info": {
      "name": "python"
    }
  },
  "cells": [
    {
      "cell_type": "markdown",
      "metadata": {
        "id": "iy9X0m6pMMve"
      },
      "source": [
        "1. Blood glucose levels for obese patients have a mean of 100 with a standard deviation of 15. A researcher thinks that a diet high in raw cornstarch will have a positive effect on blood glucose levels. A sample of 36 patients who have tried the raw cornstarch diet have a mean glucose level of 108. Test the hypothesis that the raw cornstarch had an effect or not."
      ]
    },
    {
      "cell_type": "markdown",
      "metadata": {
        "id": "3HaD02rDNicy"
      },
      "source": [
        "H<sub>0</sub> : &mu; > 100\n",
        "<br>\n",
        "H<sub>a</sub> : &mu; &leq; 100\n",
        "\n",
        "Since we do not have a sample standard deviation and 30+ sample, we can go with a z-test.\n",
        "\n",
        "x&#772; = 108\n",
        "<br>\n",
        "&mu; = 100\n",
        "<br>\n",
        "&sigma; = 15\n",
        "<br>\n",
        "n = 36\n",
        "<br>\n",
        "We then can apply the formula below.\n",
        "\n",
        "![image.png](data:image/png;base64,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)\n"
      ]
    },
    {
      "cell_type": "code",
      "metadata": {
        "colab": {
          "base_uri": "https://localhost:8080/"
        },
        "id": "7kuNE877NpcQ",
        "outputId": "9abcd75f-15e7-4eb5-deda-bba9185515bd"
      },
      "source": [
        "from math import sqrt\n",
        "z = (108 - 100)/(15/sqrt(36))\n",
        "print(z)"
      ],
      "execution_count": 5,
      "outputs": [
        {
          "output_type": "stream",
          "text": [
            "3.2\n"
          ],
          "name": "stdout"
        }
      ]
    },
    {
      "cell_type": "markdown",
      "metadata": {
        "id": "DDq81tFhTq5m"
      },
      "source": [
        "P value which corresponds to 3.2 in a normal distribution is 0.007. 0.007 is less 0.05 (our alpha value), therefore we reject the null hypothesis under 5% level of significance. \n",
        "<hr>"
      ]
    },
    {
      "cell_type": "markdown",
      "metadata": {
        "id": "ANUvq6iTUH12"
      },
      "source": [
        "3. You take the SAT and score 1100. The mean score for the SAT is 1026 and the standard deviation is 209. How well did you score on the test compared to the average test taker?"
      ]
    },
    {
      "cell_type": "code",
      "metadata": {
        "colab": {
          "base_uri": "https://localhost:8080/"
        },
        "id": "ipJlziJtS6sG",
        "outputId": "0933c029-b5ad-4c66-930c-44c097ef67fd"
      },
      "source": [
        "z = (1100 - 1026)/(209)\n",
        "z\n",
        "# 0.35 means, we are the extreme end. Which means we have performed well"
      ],
      "execution_count": 8,
      "outputs": [
        {
          "output_type": "execute_result",
          "data": {
            "text/plain": [
              "0.35406698564593303"
            ]
          },
          "metadata": {
            "tags": []
          },
          "execution_count": 8
        }
      ]
    }
  ]
}