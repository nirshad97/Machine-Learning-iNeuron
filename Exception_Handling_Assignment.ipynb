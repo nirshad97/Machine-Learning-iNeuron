{
  "nbformat": 4,
  "nbformat_minor": 0,
  "metadata": {
    "colab": {
      "name": "Exception Handling Assignment.ipynb",
      "provenance": []
    },
    "kernelspec": {
      "name": "python3",
      "display_name": "Python 3"
    }
  },
  "cells": [
    {
      "cell_type": "markdown",
      "metadata": {
        "id": "mEV91838evTn"
      },
      "source": [
        "1. Write a function to compute 5/0 and use try/except to catch the exceptions."
      ]
    },
    {
      "cell_type": "code",
      "metadata": {
        "id": "Yfr5YOSgeY4L"
      },
      "source": [
        "def divide_by_zero(x):\r\n",
        "  try:\r\n",
        "    x/0\r\n",
        "  except ZeroDivisionError:\r\n",
        "    print(\"You cannot divide a number by a zero\")"
      ],
      "execution_count": 3,
      "outputs": []
    },
    {
      "cell_type": "code",
      "metadata": {
        "colab": {
          "base_uri": "https://localhost:8080/"
        },
        "id": "EhVUQO-bede3",
        "outputId": "41ce1cc1-e115-40a6-929f-c70ac1409449"
      },
      "source": [
        "divide_by_zero(5)"
      ],
      "execution_count": 4,
      "outputs": [
        {
          "output_type": "stream",
          "text": [
            "You cannot divide a number by a zero\n"
          ],
          "name": "stdout"
        }
      ]
    },
    {
      "cell_type": "markdown",
      "metadata": {
        "id": "MW3HNZY9fZ7d"
      },
      "source": [
        "2. Implement a Python program to generate all sentences where subject is in\r\n",
        "[\"Americans\", \"Indians\"] and verb is in [\"Play\", \"watch\"] and the object is in\r\n",
        "[\"Baseball\",\"cricket\"]."
      ]
    },
    {
      "cell_type": "code",
      "metadata": {
        "colab": {
          "base_uri": "https://localhost:8080/"
        },
        "id": "l3a2fZ1ZeglV",
        "outputId": "bdcbbd92-ebf0-439e-f5cd-3db3d4dd43e6"
      },
      "source": [
        "subjects= [\"Americans\",\"Indians\"]\r\n",
        "verbs= [\"play\",\"watch\"]\r\n",
        "objects= [\"Baseball.\",\"Cricket.\"]\r\n",
        "\r\n",
        "\r\n",
        "for subject in subjects:\r\n",
        "  for verb in verbs:\r\n",
        "    for object_ in objects:\r\n",
        "      print(f\"{subject} {verb} {object_}\")"
      ],
      "execution_count": 5,
      "outputs": [
        {
          "output_type": "stream",
          "text": [
            "Americans play Baseball.\n",
            "Americans play Cricket.\n",
            "Americans watch Baseball.\n",
            "Americans watch Cricket.\n",
            "Indians play Baseball.\n",
            "Indians play Cricket.\n",
            "Indians watch Baseball.\n",
            "Indians watch Cricket.\n"
          ],
          "name": "stdout"
        }
      ]
    },
    {
      "cell_type": "code",
      "metadata": {
        "id": "Os-uE19gfVkX"
      },
      "source": [
        ""
      ],
      "execution_count": null,
      "outputs": []
    }
  ]
}